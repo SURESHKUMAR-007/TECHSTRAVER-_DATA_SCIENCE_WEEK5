{
 "cells": [
  {
   "cell_type": "markdown",
   "metadata": {},
   "source": [
    "# Resume Analysis Project\n",
    "\n",
    "## 1. Import Necessary Libraries"
   ]
  },
  {
   "cell_type": "code",
   "execution_count": 11,
   "metadata": {},
   "outputs": [],
   "source": [
    "\n",
    "import os\n",
    "import re\n",
    "import spacy\n",
    "import pdfminer\n",
    "import PyPDF2\n",
    "import sqlite3\n",
    "import docx\n",
    "import pandas as pd\n",
    "from pdfminer.high_level import extract_text\n",
    "from docx import Document\n"
   ]
  },
  {
   "cell_type": "markdown",
   "metadata": {},
   "source": [
    "## 2. Set Up Environment and NLP Model\n",
    "# Load the spaCy model for NLP"
   ]
  },
  {
   "cell_type": "code",
   "execution_count": 12,
   "metadata": {},
   "outputs": [],
   "source": [
    "\n",
    "nlp = spacy.load(\"en_core_web_sm\")\n"
   ]
  },
  {
   "cell_type": "markdown",
   "metadata": {},
   "source": [
    "## 3. Set Up Database for Storing Parsed Data\n",
    "# Create a SQLite database to store resume data"
   ]
  },
  {
   "cell_type": "code",
   "execution_count": 13,
   "metadata": {},
   "outputs": [],
   "source": [
    "\n",
    "\n",
    "conn = sqlite3.connect('resumes.db')\n",
    "cursor = conn.cursor()\n",
    "\n",
    "# Create a table if it doesn't exist\n",
    "cursor.execute('''\n",
    "    CREATE TABLE IF NOT EXISTS resumes (\n",
    "        id INTEGER PRIMARY KEY,\n",
    "        name TEXT,\n",
    "        email TEXT,\n",
    "        phone TEXT,\n",
    "        skills TEXT,\n",
    "        experience TEXT,\n",
    "        education TEXT\n",
    "    )\n",
    "''')\n",
    "conn.commit()\n"
   ]
  },
  {
   "cell_type": "markdown",
   "metadata": {},
   "source": [
    "\n",
    "## 4. Resume File Handling"
   ]
  },
  {
   "cell_type": "code",
   "execution_count": 14,
   "metadata": {},
   "outputs": [],
   "source": [
    "\n",
    "def read_pdf(file_path):\n",
    "    text = extract_text(file_path)\n",
    "    return text\n",
    "\n",
    "def read_docx(file_path):\n",
    "    doc = Document(file_path)\n",
    "    full_text = []\n",
    "    for para in doc.paragraphs:\n",
    "        full_text.append(para.text)\n",
    "    return '\\n'.join(full_text)\n",
    "\n",
    "def extract_text_from_resume(file_path):\n",
    "    file_extension = os.path.splitext(file_path)[-1].lower()\n",
    "    if file_extension == '.pdf':\n",
    "        return read_pdf(file_path)\n",
    "    elif file_extension == '.docx':\n",
    "        return read_docx(file_path)\n",
    "    else:\n",
    "        raise ValueError(\"Unsupported file format\")\n"
   ]
  },
  {
   "cell_type": "markdown",
   "metadata": {},
   "source": [
    "## 5. Text Extraction and Data Parsing"
   ]
  },
  {
   "cell_type": "code",
   "execution_count": 15,
   "metadata": {},
   "outputs": [],
   "source": [
    "\n",
    "\n",
    "def extract_contact_info(text):\n",
    "    # Regular expressions for extracting email and phone numbers\n",
    "    email = re.findall(r'\\S+@\\S+', text)\n",
    "    phone = re.findall(r'\\(?\\d{3}\\)?-?\\s*-?\\d{3}-?\\s*-?\\d{4}', text)\n",
    "    \n",
    "    email = email[0] if email else None\n",
    "    phone = phone[0] if phone else None\n",
    "    \n",
    "    return email, phone\n",
    "\n",
    "def extract_name(text, nlp):\n",
    "    doc = nlp(text)\n",
    "    for ent in doc.ents:\n",
    "        if ent.label_ == 'PERSON':\n",
    "            return ent.text\n",
    "    return None\n",
    "\n",
    "def extract_skills(text, nlp):\n",
    "    doc = nlp(text)\n",
    "    skills = []\n",
    "    for token in doc:\n",
    "        if token.ent_type_ == 'SKILL':\n",
    "            skills.append(token.text)\n",
    "    return ', '.join(skills)\n",
    "\n",
    "def extract_experience(text, nlp):\n",
    "    # A simple method to extract experience-related sections\n",
    "    experience_sections = re.findall(r'(experience|work history|employment history)(.*?)(education|skills|$)', text, re.IGNORECASE | re.DOTALL)\n",
    "    return experience_sections[0][1].strip() if experience_sections else \"\"\n",
    "\n",
    "def extract_education(text, nlp):\n",
    "    # A simple method to extract education-related sections\n",
    "    education_sections = re.findall(r'(education|academic)(.*?)(experience|skills|$)', text, re.IGNORECASE | re.DOTALL)\n",
    "    return education_sections[0][1].strip() if education_sections else \"\"\n"
   ]
  },
  {
   "cell_type": "markdown",
   "metadata": {},
   "source": [
    "## 6. NLP Processing and Data Storage"
   ]
  },
  {
   "cell_type": "code",
   "execution_count": 16,
   "metadata": {},
   "outputs": [],
   "source": [
    "\n",
    "\n",
    "def analyze_and_store_resume(file_path, nlp):\n",
    "    text = extract_text_from_resume(file_path)\n",
    "    \n",
    "    # Extract information\n",
    "    name = extract_name(text, nlp)\n",
    "    email, phone = extract_contact_info(text)\n",
    "    skills = extract_skills(text, nlp)\n",
    "    experience = extract_experience(text, nlp)\n",
    "    education = extract_education(text, nlp)\n",
    "    \n",
    "    # Store data in the database\n",
    "    cursor.execute('''\n",
    "        INSERT INTO resumes (name, email, phone, skills, experience, education)\n",
    "        VALUES (?, ?, ?, ?, ?, ?)\n",
    "    ''', (name, email, phone, skills, experience, education))\n",
    "    \n",
    "    conn.commit()\n",
    "    \n",
    "    print(f\"Resume '{file_path}' analyzed and stored successfully!\")\n"
   ]
  },
  {
   "cell_type": "markdown",
   "metadata": {},
   "source": [
    "## 7. Output Analysis"
   ]
  },
  {
   "cell_type": "code",
   "execution_count": 17,
   "metadata": {},
   "outputs": [
    {
     "name": "stdout",
     "output_type": "stream",
     "text": [
      "Resume 'C://Users//D.SURESH KUMAR//Desktop//SampleResume.pdf' analyzed and stored successfully!\n",
      "   id              name                         email       phone skills  \\\n",
      "0   1             Gmail  210701118@rajalakshmi.edu.in  7305822559          \n",
      "1   2             Gmail  210701118@rajalakshmi.edu.in  7305822559          \n",
      "2   3  Neuberger Berman                          None        None          \n",
      "\n",
      "                                          experience  \\\n",
      "0                                                      \n",
      "1                                                      \n",
      "2  Neuberger Berman \\nPortfolio Management Intern...   \n",
      "\n",
      "                                           education  \n",
      "0                                                     \n",
      "1                                                     \n",
      "2  Tufts University \\nBachelor of Arts in Interna...  \n"
     ]
    }
   ],
   "source": [
    "\n",
    "\n",
    "def view_resumes():\n",
    "    # Query the database and display resumes\n",
    "    df = pd.read_sql_query(\"SELECT * FROM resumes\", conn)\n",
    "    print(df)\n",
    "\n",
    "## Main Program\n",
    "if __name__ == \"__main__\":\n",
    "    # Analyze a sample resume file (replace with your file path)\n",
    "    resume_file = 'C://Users//D.SURESH KUMAR//Desktop//SampleResume.pdf'\n",
    "    analyze_and_store_resume(resume_file, nlp)\n",
    "    \n",
    "    # Display all stored resumes\n",
    "    view_resumes()\n",
    "    \n",
    "    # Close the database connection\n",
    "    conn.close()\n"
   ]
  }
 ],
 "metadata": {
  "kernelspec": {
   "display_name": "Python 3",
   "language": "python",
   "name": "python3"
  },
  "language_info": {
   "codemirror_mode": {
    "name": "ipython",
    "version": 3
   },
   "file_extension": ".py",
   "mimetype": "text/x-python",
   "name": "python",
   "nbconvert_exporter": "python",
   "pygments_lexer": "ipython3",
   "version": "3.11.9"
  }
 },
 "nbformat": 4,
 "nbformat_minor": 2
}
