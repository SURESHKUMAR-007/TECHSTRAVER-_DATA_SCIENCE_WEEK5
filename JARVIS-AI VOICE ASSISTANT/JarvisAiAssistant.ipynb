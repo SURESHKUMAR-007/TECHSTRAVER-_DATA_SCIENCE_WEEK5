{
 "cells": [
  {
   "cell_type": "markdown",
   "metadata": {},
   "source": [
    "# Jarvis-AI Voice Assistant\n",
    "\n",
    "## 1. Import Necessary Libraries"
   ]
  },
  {
   "cell_type": "code",
   "execution_count": 18,
   "metadata": {},
   "outputs": [],
   "source": [
    "\n",
    "import speech_recognition as sr\n",
    "import pyttsx3\n",
    "import requests\n",
    "import time\n",
    "import spacy\n",
    "from gtts import gTTS\n",
    "import os\n"
   ]
  },
  {
   "cell_type": "markdown",
   "metadata": {},
   "source": [
    "\n",
    "## 2. Set Up Environment for Text-to-Speech"
   ]
  },
  {
   "cell_type": "code",
   "execution_count": 19,
   "metadata": {},
   "outputs": [],
   "source": [
    "\n",
    "def setup_tts_engine():\n",
    "    engine = pyttsx3.init()\n",
    "    voices = engine.getProperty('voices')\n",
    "    engine.setProperty('voice', voices[1].id)  # You can change index for different voices\n",
    "    engine.setProperty('rate', 150)  # Speed of speech\n",
    "    return engine\n",
    "\n",
    "def speak_text(engine, text):\n",
    "    engine.say(text)\n",
    "    engine.runAndWait()\n"
   ]
  },
  {
   "cell_type": "markdown",
   "metadata": {},
   "source": [
    "\n",
    "## 3. Capture Voice Input"
   ]
  },
  {
   "cell_type": "code",
   "execution_count": 20,
   "metadata": {},
   "outputs": [],
   "source": [
    "def capture_voice_input(recognizer, microphone):\n",
    "    with microphone as source:\n",
    "        print(\"Listening...\")\n",
    "        recognizer.adjust_for_ambient_noise(source)\n",
    "        audio = recognizer.listen(source)\n",
    "    return audio\n",
    "\n",
    "def recognize_speech(recognizer, audio):\n",
    "    try:\n",
    "        text = recognizer.recognize_google(audio)\n",
    "        print(f\"Recognized: {text}\")\n",
    "        return text\n",
    "    except sr.UnknownValueError:\n",
    "        print(\"Google Speech Recognition could not understand audio\")\n",
    "        return None\n",
    "    except sr.RequestError as e:\n",
    "        print(f\"Could not request results from Google Speech Recognition service; {e}\")\n",
    "        return None"
   ]
  },
  {
   "cell_type": "markdown",
   "metadata": {},
   "source": [
    "## 4. Process the Text using NLP"
   ]
  },
  {
   "cell_type": "code",
   "execution_count": 21,
   "metadata": {},
   "outputs": [],
   "source": [
    "def process_text(text, nlp):\n",
    "    doc = nlp(text)\n",
    "    return doc\n",
    "\n",
    "def extract_intent(doc):\n",
    "    # Basic intent recognition logic (this can be expanded)\n",
    "    if \"weather\" in doc.text.lower():\n",
    "        return \"get_weather\"\n",
    "    elif \"time\" in doc.text.lower():\n",
    "        return \"get_time\"\n",
    "    elif \"name\" in doc.text.lower():\n",
    "        return \"ask_name\"\n",
    "    elif \"stop\" in doc.text.lower() or \"exit\" in doc.text.lower():\n",
    "        return \"stop_listening\"\n",
    "    else:\n",
    "        return \"unknown\""
   ]
  },
  {
   "cell_type": "markdown",
   "metadata": {},
   "source": [
    "\n",
    "## 5. Execute Actions Based on Intent"
   ]
  },
  {
   "cell_type": "code",
   "execution_count": 22,
   "metadata": {},
   "outputs": [],
   "source": [
    "def execute_intent(intent):\n",
    "    if intent == \"get_weather\":\n",
    "        return get_weather()\n",
    "    elif intent == \"get_time\":\n",
    "        return get_time()\n",
    "    elif intent == \"ask_name\":\n",
    "        return \"I am Jarvis, your AI voice assistant.\"\n",
    "    elif intent == \"stop_listening\":\n",
    "        return \"Stopping now. Goodbye!\"\n",
    "    else:\n",
    "        return \"Sorry, I didn't understand that.\"\n",
    "\n",
    "def get_weather():\n",
    "    api_key = \"your_openweather_api_key\"  # Replace with your OpenWeather API key\n",
    "    city = \"Chennai\"\n",
    "    url = f\"http://api.openweathermap.org/data/2.5/weather?q={city}&appid={api_key}&units=metric\"\n",
    "    response = requests.get(url)\n",
    "    weather_data = response.json()\n",
    "    \n",
    "    if weather_data[\"cod\"] == 200:\n",
    "        main = weather_data[\"main\"]\n",
    "        temperature = main[\"temp\"]\n",
    "        return f\"The current temperature in {city} is {temperature}°C.\"\n",
    "    else:\n",
    "        return \"Sorry, I couldn't retrieve the weather information.\"\n",
    "\n",
    "def get_time():\n",
    "    return f\"The current time is {time.strftime('%I:%M %p')}.\""
   ]
  },
  {
   "cell_type": "markdown",
   "metadata": {},
   "source": [
    "## 6. Generate and Output Response"
   ]
  },
  {
   "cell_type": "code",
   "execution_count": 23,
   "metadata": {},
   "outputs": [
    {
     "name": "stdout",
     "output_type": "stream",
     "text": [
      "Listening...\n",
      "Google Speech Recognition could not understand audio\n",
      "Listening...\n",
      "Recognized: time now\n",
      "Listening...\n",
      "Recognized: stop\n"
     ]
    }
   ],
   "source": [
    "def output_response(engine, response_text):\n",
    "    speak_text(engine, response_text)\n",
    "\n",
    "## Main Program Loop\n",
    "def main():\n",
    "    recognizer = sr.Recognizer()\n",
    "    microphone = sr.Microphone()\n",
    "    nlp = spacy.load(\"en_core_web_sm\")\n",
    "    tts_engine = setup_tts_engine()\n",
    "    \n",
    "    start_time = time.time()\n",
    "    timeout = 60  # Stop listening after 60 seconds\n",
    "\n",
    "    while True:\n",
    "        audio = capture_voice_input(recognizer, microphone)\n",
    "        if audio:\n",
    "            recognized_text = recognize_speech(recognizer, audio)\n",
    "            if recognized_text:\n",
    "                doc = process_text(recognized_text, nlp)\n",
    "                intent = extract_intent(doc)\n",
    "                response = execute_intent(intent)\n",
    "                output_response(tts_engine, response)\n",
    "\n",
    "                if intent == \"stop_listening\":\n",
    "                    break\n",
    "                \n",
    "        # Check for timeout\n",
    "        if time.time() - start_time > timeout:\n",
    "            print(\"Timeout reached. Stopping now.\")\n",
    "            break\n",
    "        \n",
    "        time.sleep(1)\n",
    "\n",
    "if __name__ == \"__main__\":\n",
    "    main()"
   ]
  }
 ],
 "metadata": {
  "kernelspec": {
   "display_name": "Python 3",
   "language": "python",
   "name": "python3"
  },
  "language_info": {
   "codemirror_mode": {
    "name": "ipython",
    "version": 3
   },
   "file_extension": ".py",
   "mimetype": "text/x-python",
   "name": "python",
   "nbconvert_exporter": "python",
   "pygments_lexer": "ipython3",
   "version": "3.11.9"
  }
 },
 "nbformat": 4,
 "nbformat_minor": 2
}
